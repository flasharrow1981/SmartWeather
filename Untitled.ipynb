{
 "cells": [
  {
   "cell_type": "code",
   "execution_count": 12,
   "metadata": {},
   "outputs": [
    {
     "name": "stdout",
     "output_type": "stream",
     "text": [
      "message count 601\n",
      "keyname = ciwc\n",
      "----------------------------------------------------------------------------------------------------\n",
      "keyname = cc\n",
      "----------------------------------------------------------------------------------------------------\n",
      "keyname = clwc\n",
      "----------------------------------------------------------------------------------------------------\n",
      "keyname = cc\n",
      "----------------------------------------------------------------------------------------------------\n",
      "keyname = q\n",
      "----------------------------------------------------------------------------------------------------\n",
      "keyname = pv\n",
      "----------------------------------------------------------------------------------------------------\n",
      "keyname = t\n",
      "----------------------------------------------------------------------------------------------------\n",
      "keyname = cc\n",
      "----------------------------------------------------------------------------------------------------\n",
      "keyname = lnsp\n",
      "----------------------------------------------------------------------------------------------------\n",
      "keyname = clwc\n",
      "----------------------------------------------------------------------------------------------------\n"
     ]
    },
    {
     "ename": "SystemExit",
     "evalue": "",
     "output_type": "error",
     "traceback": [
      "An exception has occurred, use %tb to see the full traceback.\n",
      "\u001b[0;31mSystemExit\u001b[0m\n"
     ]
    }
   ],
   "source": [
    "# %load test1.py\n",
    "\n",
    "\n",
    "# In[13]:\n",
    "\n",
    "\n",
    "# %load test.py\n",
    "\n",
    "\n",
    "# In[ ]:\n",
    "\n",
    "\n",
    "from __future__ import print_function\n",
    "import traceback\n",
    "import sys\n",
    " \n",
    "from eccodes import *\n",
    " \n",
    "INPUT = '/home/dp/data/ECMF_DAM/PUB/W_NAFP_C_ECMF_20171108054547_P_C1D11080000110800001'\n",
    "VERBOSE = 1  # verbose error reporting\n",
    "missingValue = 1e+20  # A value out of range \n",
    " \n",
    "def example():\n",
    "    f = open(INPUT)\n",
    "    message_count=codes_count_in_file(f) #文件中共有多少message\n",
    "    print(\"message count %d\" % (message_count))\n",
    "    \n",
    "    for i in range (10):\n",
    "        gid = codes_grib_new_from_file(f)\n",
    "        #if gid is None:\n",
    "        #    break\n",
    "        keyval = codes_get_string(gid, \"shortName\")\n",
    "        print(\"%s = %s\" % (\"keyname\", keyval))\n",
    "        \n",
    "\n",
    "        \n",
    "        \n",
    "\n",
    "        \n",
    "        print(\"-\" * 100)\n",
    "        codes_release(gid)\n",
    "   \n",
    "    f.close()\n",
    "    \n",
    "    \n",
    " \n",
    " \n",
    " \n",
    "def main():\n",
    "    try:\n",
    "        example()\n",
    "    except CodesInternalError as err:\n",
    "        if VERBOSE:\n",
    "            traceback.print_exc(file=sys.stderr)\n",
    "        else:\n",
    "            sys.stderr.write(err.msg + '\\n')\n",
    " \n",
    "        return 1\n",
    " \n",
    " \n",
    "if __name__ == \"__main__\":\n",
    "    sys.exit(main())\n",
    "\n",
    "\n"
   ]
  },
  {
   "cell_type": "code",
   "execution_count": null,
   "metadata": {
    "collapsed": true
   },
   "outputs": [],
   "source": []
  },
  {
   "cell_type": "code",
   "execution_count": null,
   "metadata": {
    "collapsed": true
   },
   "outputs": [],
   "source": []
  }
 ],
 "metadata": {
  "kernelspec": {
   "display_name": "Python 2",
   "language": "python",
   "name": "python2"
  },
  "language_info": {
   "codemirror_mode": {
    "name": "ipython",
    "version": 2
   },
   "file_extension": ".py",
   "mimetype": "text/x-python",
   "name": "python",
   "nbconvert_exporter": "python",
   "pygments_lexer": "ipython2",
   "version": "2.7.14"
  }
 },
 "nbformat": 4,
 "nbformat_minor": 2
}
